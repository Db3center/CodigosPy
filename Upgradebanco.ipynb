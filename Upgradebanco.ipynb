{
  "nbformat": 4,
  "nbformat_minor": 0,
  "metadata": {
    "colab": {
      "provenance": [],
      "authorship_tag": "ABX9TyMFK65XbIF+IciHB85UmMtV",
      "include_colab_link": true
    },
    "kernelspec": {
      "name": "python3",
      "display_name": "Python 3"
    },
    "language_info": {
      "name": "python"
    }
  },
  "cells": [
    {
      "cell_type": "markdown",
      "metadata": {
        "id": "view-in-github",
        "colab_type": "text"
      },
      "source": [
        "<a href=\"https://colab.research.google.com/github/Db3center/CodigosPy/blob/main/Upgradebanco.ipynb\" target=\"_parent\"><img src=\"https://colab.research.google.com/assets/colab-badge.svg\" alt=\"Open In Colab\"/></a>"
      ]
    },
    {
      "cell_type": "code",
      "execution_count": 1,
      "metadata": {
        "id": "FRvgtUMHEGhm"
      },
      "outputs": [],
      "source": [
        "class Usuario:\n",
        "    def __init__(self, nome, cpf, telefone, logradouro):\n",
        "        self.nome = nome\n",
        "        self.cpf = cpf\n",
        "        self.telefone = telefone\n",
        "        self.logradouro = logradouro\n",
        "\n",
        "\n",
        "class Conta:\n",
        "    num_contas = 0\n",
        "    agencia = \"0001\"\n",
        "\n",
        "    def __init__(self, usuario):\n",
        "        Conta.num_contas += 1\n",
        "        self.numero = Conta.num_contas\n",
        "        self.usuario = usuario\n",
        "        self.saldo = 0\n",
        "        self.saques_realizados = 0\n",
        "        self.movimentacoes = []\n",
        "\n",
        "    def depositar(self, valor):\n",
        "        if valor > 0:\n",
        "            self.saldo += valor\n",
        "            self.movimentacoes.append(f'Depósito: + R${valor:.2f}')\n",
        "        else:\n",
        "            print(\"Valor inválido para depósito.\")\n",
        "\n",
        "    def sacar(self, valor):\n",
        "        if valor > 0:\n",
        "            if self.saques_realizados < 3 and valor <= 500 and valor <= self.saldo:\n",
        "                self.saldo -= valor\n",
        "                self.saques_realizados += 1\n",
        "                self.movimentacoes.append(f'Saque: - R${valor:.2f}')\n",
        "            else:\n",
        "                print(\"Operação inválida: limite de saques diários excedido ou valor excede o saldo ou limite por saque.\")\n",
        "        else:\n",
        "            print(\"Valor inválido para saque.\")\n",
        "\n",
        "    def extrato(self):\n",
        "        if not self.movimentacoes:\n",
        "            print(\"Não foram realizadas movimentações.\")\n",
        "        else:\n",
        "            print(\"Extrato:\")\n",
        "            for movimento in self.movimentacoes:\n",
        "                print(movimento)\n",
        "            print(f\"Saldo atual: R${self.saldo:.2f}\")\n",
        "\n",
        "\n",
        "class Banco:\n",
        "    def __init__(self):\n",
        "        self.contas = []\n",
        "\n",
        "    def cadastrar_usuario(self, nome, cpf, telefone, logradouro):\n",
        "        usuario = Usuario(nome, cpf, telefone, logradouro)\n",
        "        return usuario\n",
        "\n",
        "    def cadastrar_conta(self, usuario):\n",
        "        conta = Conta(usuario)\n",
        "        self.contas.append(conta)\n",
        "        return conta\n",
        "\n",
        "    def listar_contas(self):\n",
        "        if self.contas:\n",
        "            for conta in self.contas:\n",
        "                print(f\"Agência: {Conta.agencia} - Número da conta: {conta.numero} - CPF: {conta.usuario.cpf}\")\n",
        "        else:\n",
        "            print(\"Não há contas cadastradas.\")\n",
        "\n",
        "\n",
        "\n",
        "\n"
      ]
    },
    {
      "cell_type": "code",
      "source": [
        "\n",
        "banco = Banco()"
      ],
      "metadata": {
        "id": "URAB2Ak3EZ0r"
      },
      "execution_count": 2,
      "outputs": []
    },
    {
      "cell_type": "code",
      "source": [
        "usuario1 = banco.cadastrar_usuario(\"João\", \"123.456.789-10\", \"123456789\", \"Rua A, 123\")\n",
        "conta1 = banco.cadastrar_conta(usuario1)"
      ],
      "metadata": {
        "id": "DJ3LowOfEnTr"
      },
      "execution_count": 3,
      "outputs": []
    },
    {
      "cell_type": "code",
      "source": [
        "conta1.depositar(1000)\n",
        "conta1.sacar(300)\n",
        "conta1.sacar(400)\n",
        "conta1.sacar(200)\n"
      ],
      "metadata": {
        "id": "nosah5j1Eqyq"
      },
      "execution_count": 4,
      "outputs": []
    },
    {
      "cell_type": "code",
      "source": [
        "conta1.extrato()"
      ],
      "metadata": {
        "colab": {
          "base_uri": "https://localhost:8080/"
        },
        "id": "TFykRFXpEvxS",
        "outputId": "0d7d07fd-67b0-4d89-b5a1-34a32ce2d16d"
      },
      "execution_count": 5,
      "outputs": [
        {
          "output_type": "stream",
          "name": "stdout",
          "text": [
            "Extrato:\n",
            "Depósito: + R$1000.00\n",
            "Saque: - R$300.00\n",
            "Saque: - R$400.00\n",
            "Saque: - R$200.00\n",
            "Saldo atual: R$100.00\n"
          ]
        }
      ]
    },
    {
      "cell_type": "code",
      "source": [
        "banco.listar_contas()"
      ],
      "metadata": {
        "colab": {
          "base_uri": "https://localhost:8080/"
        },
        "id": "lfDPyOk4EykK",
        "outputId": "34747082-0f4d-4cbe-fe0d-9cf7f50a5b3f"
      },
      "execution_count": 6,
      "outputs": [
        {
          "output_type": "stream",
          "name": "stdout",
          "text": [
            "Agência: 0001 - Número da conta: 1 - CPF: 123.456.789-10\n"
          ]
        }
      ]
    }
  ]
}