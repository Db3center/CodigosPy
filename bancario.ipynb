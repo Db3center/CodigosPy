{
  "nbformat": 4,
  "nbformat_minor": 0,
  "metadata": {
    "colab": {
      "provenance": [],
      "authorship_tag": "ABX9TyPQGZiU30zTHilTzyd3C70y",
      "include_colab_link": true
    },
    "kernelspec": {
      "name": "python3",
      "display_name": "Python 3"
    },
    "language_info": {
      "name": "python"
    }
  },
  "cells": [
    {
      "cell_type": "markdown",
      "metadata": {
        "id": "view-in-github",
        "colab_type": "text"
      },
      "source": [
        "<a href=\"https://colab.research.google.com/github/Db3center/CodigosPy/blob/main/bancario.ipynb\" target=\"_parent\"><img src=\"https://colab.research.google.com/assets/colab-badge.svg\" alt=\"Open In Colab\"/></a>"
      ]
    },
    {
      "cell_type": "code",
      "execution_count": null,
      "metadata": {
        "colab": {
          "base_uri": "https://localhost:8080/"
        },
        "id": "GVeZtqyzgcMy",
        "outputId": "3e47477b-80f8-4c10-ffe3-0be043beb88f"
      },
      "outputs": [
        {
          "output_type": "stream",
          "name": "stdout",
          "text": [
            "Valor inválido para saque.\n",
            "Extrato:\n",
            "Depósito: + R$1000.00\n",
            "Saque: - R$400.00\n",
            "Saque: - R$200.00\n",
            "Saque: - R$100.00\n",
            "Saldo atual: R$300.00\n"
          ]
        }
      ],
      "source": [
        "class SistemaBancario:\n",
        "    def __init__(self):\n",
        "        self.saldo = 0\n",
        "        self.saques_realizados = 0\n",
        "        self.movimentacoes = []\n",
        "\n",
        "    def depositar(self, valor):\n",
        "        if valor > 0:\n",
        "            self.saldo += valor\n",
        "            self.movimentacoes.append(f'Depósito: + R${valor:.2f}')\n",
        "        else:\n",
        "            print(\"Valor inválido para depósito.\")\n",
        "\n",
        "    def sacar(self, valor):\n",
        "        if valor > 0:\n",
        "            if self.saques_realizados < 3 and valor <= 500 and valor <= self.saldo:\n",
        "                self.saldo -= valor\n",
        "                self.saques_realizados += 1\n",
        "                self.movimentacoes.append(f'Saque: - R${valor:.2f}')\n",
        "            else:\n",
        "                print(\"Operação inválida: limite de saques diários excedido ou valor excede o saldo ou limite por saque.\")\n",
        "        else:\n",
        "            print(\"Valor inválido para saque.\")\n",
        "\n",
        "    def extrato(self):\n",
        "        if not self.movimentacoes:\n",
        "            print(\"Não foram realizadas movimentações.\")\n",
        "        else:\n",
        "            print(\"Extrato:\")\n",
        "            for movimento in self.movimentacoes:\n",
        "                print(movimento)\n",
        "            print(f\"Saldo atual: R${self.saldo:.2f}\")\n",
        "\n",
        "\n",
        "# Exemplo de uso do sistema bancário:\n",
        "banco = SistemaBancario()\n",
        "banco.depositar(1000)\n",
        "banco.sacar(-300)  # Tentativa de saque com valor negativo\n",
        "banco.sacar(400)\n",
        "banco.sacar(200)\n",
        "banco.sacar(100)\n",
        "banco.extrato()\n",
        "\n",
        "\n",
        "\n",
        "# Exemplo de uso do sistema bancário:\n",
        "#banco = SistemaBancario()\n",
        "#banco.depositar(1000)\n",
        "#banco.sacar(300)\n",
        "#banco.sacar(400)\n",
        "#banco.sacar(200)\n",
        "#banco.sacar(100)\n",
        "#banco.extrato()#\n"
      ]
    },
    {
      "cell_type": "code",
      "source": [
        "banco = SistemaBancario()"
      ],
      "metadata": {
        "id": "ikwjppfsgutr"
      },
      "execution_count": null,
      "outputs": []
    },
    {
      "cell_type": "code",
      "source": [
        "banco.depositar(1000)"
      ],
      "metadata": {
        "id": "ydnbKj5ugzBD"
      },
      "execution_count": null,
      "outputs": []
    },
    {
      "cell_type": "code",
      "source": [
        "banco.sacar(2000)"
      ],
      "metadata": {
        "colab": {
          "base_uri": "https://localhost:8080/"
        },
        "id": "3nr8RRCqg1U3",
        "outputId": "56322686-010d-4c0b-f764-ebb34c8aeee0"
      },
      "execution_count": null,
      "outputs": [
        {
          "output_type": "stream",
          "name": "stdout",
          "text": [
            "Operação inválida: limite de saques diários excedido ou valor excede o saldo ou limite por saque.\n"
          ]
        }
      ]
    }
  ]
}